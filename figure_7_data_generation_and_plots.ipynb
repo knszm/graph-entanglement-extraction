{
 "cells": [
  {
   "cell_type": "code",
   "execution_count": 2,
   "id": "dd27eb1b",
   "metadata": {},
   "outputs": [],
   "source": [
    "from utils import prepare_pauli_operator\n",
    "from tqdm import tqdm\n",
    "from math import sqrt\n",
    "import networkx as nx\n",
    "from functools import reduce # Valid in Python 2.6+, required in Python 3\n",
    "import operator\n",
    "from graphstates import *\n",
    "from weightedgraphstates import two_weighted_graph_states_ensemble,ensemble_with_sqrtcz, n_weighted_graph_states_ensemble\n",
    "import numpy as np\n",
    "import itertools \n",
    "from utils import prepare_intertwined_grid_with_endpoints, prepare_intertwined_twist_with_endpoints\n",
    "def prod(gen,init=1):\n",
    "    return reduce(operator.mul, gen, init)\n",
    "from tqdm import *\n",
    "import pickle\n",
    "import matplotlib.pyplot as plt\n",
    "from qutip.metrics import fidelity"
   ]
  },
  {
   "cell_type": "code",
   "execution_count": 8,
   "id": "4b0b2528",
   "metadata": {},
   "outputs": [],
   "source": [
    "#basically: for a given length and epsilon, determine the following:\n",
    "# - reduced post-measurement state of the terminal qubits for (eps) edge loss probability,\n",
    "# - reduced post-measurement state of the terminal qubits for zero noise,\n",
    "# - numerically determine the fidelity of the first with respect to the second,\n",
    "# - numerically determine the fidelity susceptibility, (1-fidelity)/epsilon.\n",
    "# Here, only one measurement outcome is relevant (and postselected for):\n",
    "#     all non-terminal qubits are measured in X basis with (-1) outcome.\n",
    "def path_graph_check(length,eps,outcomes='-'):\n",
    "    G=nx.path_graph(length+2)\n",
    "    N=G.order()\n",
    "    edges=G.edges\n",
    "    cons={}\n",
    "    terminal=[0,N-1]\n",
    "    tomeasure=range(1,N-1)\n",
    "    gse=n_weighted_graph_states_ensemble(N,edges,eps,10)\n",
    "    signs=[0 for v in range(N)]\n",
    "    for v in tomeasure:\n",
    "        gse.measure_pauli_operator(v,'x',outcomes)\n",
    "    consistent=True #taken from old code, where consistency checks were necessary. here it's automatic.\n",
    "    if consistent:\n",
    "        st1=gse.get_reduced_state(terminal,normalized=True)\n",
    "        st2=gse.states[-1]['state'].get_reduced_state(terminal,normalized=True)\n",
    "        con=fidelity(st1,st2)\n",
    "    else:\n",
    "        con=0\n",
    "    sus=(1-con)/eps\n",
    "    return sus\n",
    "def crazy_graph_check(length,eps,outcomes='-'):\n",
    "    G=prepare_intertwined_twist_with_endpoints(length)\n",
    "    #nx.draw(G,with_labels=True)\n",
    "    N=G.order()\n",
    "    edges=G.edges\n",
    "    cons={}\n",
    "    postselcons={}\n",
    "    terminal=[0,1]\n",
    "    tomeasure=np.arange(2,N)\n",
    "    gse=n_weighted_graph_states_ensemble(N,edges,eps,10)\n",
    "    signs=[0 for v in range(N)]\n",
    "    for v in tomeasure:\n",
    "        gse.measure_pauli_operator(v,'x',outcomes)\n",
    "    consistent=True\n",
    "    if consistent:\n",
    "        st1=gse.get_reduced_state(terminal,normalized=True)\n",
    "        st2=gse.states[-1]['state'].get_reduced_state(terminal,normalized=True)\n",
    "        con=fidelity(st1,st2)\n",
    "    else:\n",
    "        con=0\n",
    "    sus=(1-con)/eps\n",
    "    return sus\n",
    "def twist_graph_check(length,eps,outcomes='-'):\n",
    "    assert (length%2)==1\n",
    "    G=prepare_intertwined_twist_with_endpoints(length)\n",
    "    for i in range(4,2*length,4):#range(2,length-1,1):\n",
    "        G=nx.contracted_nodes(G,i,i+1,self_loops=False)\n",
    "    G=nx.convert_node_labels_to_integers(G)\n",
    "    N=G.order()\n",
    "    edges=G.edges\n",
    "    terminal=[0,1]\n",
    "    tomeasure=list(range(2,G.order()))\n",
    "    gse=n_weighted_graph_states_ensemble(N,edges,eps,10)\n",
    "    signs=[0 for v in range(N)]\n",
    "    for v in tomeasure:\n",
    "        gse.measure_pauli_operator(v,'x',outcomes)\n",
    "    consistent=True\n",
    "    if consistent:\n",
    "        st1=gse.get_reduced_state(terminal,normalized=True)\n",
    "        st2=gse.states[-1]['state'].get_reduced_state(terminal,normalized=True)\n",
    "        con=fidelity(st1,st2)\n",
    "    else:\n",
    "        con=0\n",
    "    sus=(1-con)/eps\n",
    "    return sus"
   ]
  },
  {
   "cell_type": "code",
   "execution_count": null,
   "id": "3c3be7e8",
   "metadata": {},
   "outputs": [],
   "source": [
    "# calculate the datapoints. this is quite fast because there is only one valid measurement outcome."
   ]
  },
  {
   "cell_type": "code",
   "execution_count": 9,
   "id": "5396e1a1",
   "metadata": {},
   "outputs": [
    {
     "name": "stdout",
     "output_type": "stream",
     "text": [
      "1\n",
      "2\n",
      "3\n",
      "4\n",
      "5\n",
      "6\n",
      "7\n",
      "8\n",
      "9\n"
     ]
    }
   ],
   "source": [
    "xs=[]\n",
    "ys=[]\n",
    "for n in [1,2,3,4,5,6,7,8,9]:\n",
    "    print(n)\n",
    "    ys.append(crazy_graph_check(n,0.001))\n",
    "    xs.append(n)\n"
   ]
  },
  {
   "cell_type": "code",
   "execution_count": 10,
   "id": "40b82f19",
   "metadata": {},
   "outputs": [
    {
     "name": "stdout",
     "output_type": "stream",
     "text": [
      "1\n",
      "3\n",
      "5\n",
      "7\n",
      "9\n"
     ]
    }
   ],
   "source": [
    "xxxs=[]\n",
    "yyys=[]\n",
    "for n in [1,3,5,7,9]:\n",
    "    print(n)\n",
    "    yyys.append(twist_graph_check(n,0.001))\n",
    "    xxxs.append(n)"
   ]
  },
  {
   "cell_type": "code",
   "execution_count": 11,
   "id": "8b0cf516",
   "metadata": {},
   "outputs": [
    {
     "name": "stdout",
     "output_type": "stream",
     "text": [
      "1\n",
      "2\n",
      "3\n",
      "4\n",
      "5\n",
      "6\n",
      "7\n",
      "8\n",
      "9\n"
     ]
    }
   ],
   "source": [
    "xxs=[]\n",
    "yys=[]\n",
    "for n in [1,2,3,4,5,6,7,8,9]:\n",
    "    print(n)\n",
    "    yys.append(path_graph_check(n,0.001))\n",
    "    xxs.append(n)"
   ]
  },
  {
   "cell_type": "code",
   "execution_count": 15,
   "id": "f59e4bf7",
   "metadata": {},
   "outputs": [],
   "source": [
    "# definition of plot elements \n",
    "\n",
    "import matplotlib.path as mpath\n",
    "\n",
    "star = mpath.Path.unit_regular_polygon(8)\n",
    "circle = mpath.Path.unit_circle()\n",
    "nvertices=np.dot(star.vertices,np.array([[.92,.38],[-.38,.92]]))\n",
    "# concatenate the circle with an internal cutout of the star\n",
    "own8 =  mpath.Path(\n",
    "    vertices=np.concatenate([nvertices, 0.8*nvertices[::-1, ...]]),\n",
    "    codes=np.concatenate([star.codes, star.codes]))\n",
    "\n",
    "star = mpath.Path.unit_regular_polygon(4)\n",
    "nvertices=np.array([[1,1],[-1,1],[-1,-1],[1,-1],[1,1]])\n",
    "circle = mpath.Path.unit_circle()\n",
    "# concatenate the circle with an internal cutout of the star\n",
    "own4 = mpath.Path(\n",
    "    vertices=np.concatenate([nvertices, 0.8*nvertices[::-1, ...]]),\n",
    "    codes=np.concatenate([star.codes, star.codes]))\n",
    "\n",
    "\n",
    "circle = mpath.Path.unit_circle()\n",
    "# concatenate the circle with an internal cutout of the star\n",
    "owncirc = mpath.Path(\n",
    "    vertices=np.concatenate([circle.vertices, 0.1*circle.vertices]),\n",
    "    codes=np.concatenate([circle.codes, circle.codes]))"
   ]
  },
  {
   "cell_type": "code",
   "execution_count": 14,
   "id": "dd97e868",
   "metadata": {},
   "outputs": [
    {
     "data": {
      "image/png": "[encoded data removed]",
      "text/plain": [
       "<Figure size 640x480 with 1 Axes>"
      ]
     },
     "metadata": {},
     "output_type": "display_data"
    }
   ],
   "source": [
    "#plot itself.\n",
    "from matplotlib import rc\n",
    "rc('font',**{'family':'serif','serif':['Palatino'],'size':15})\n",
    "rc('text', usetex=True)\n",
    "plt.legend([\"crazy graph\",\"twist graph\",\"path graph\"])\n",
    "plt.rcParams['axes.facecolor'] = '#ffffff80'\n",
    "\n",
    "plt.scatter(xxs,yys,marker=own8,facecolors=\"none\",edgecolors=\"#008000\",s=80)\n",
    "plt.scatter(xxxs,yyys,marker=owncirc,facecolors=\"none\",edgecolors=\"#000080\",s=80)\n",
    "plt.scatter(xs,ys,marker=own4,facecolors=\"none\",edgecolors=\"#d45500\",s=80)\n",
    "\n",
    "plt.legend([\"path graph\",\"twist graph\",\"crazy graph\"])\n",
    "plt.title(\"Correlated phase noise\")\n",
    "plt.xlabel(\"Layer count $n$\")\n",
    "plt.ylabel(\"Fidelity susceptiblity $\\\\alpha$\")\n",
    "plt.rcParams['axes.facecolor'] = '#ffffff80'\n",
    "rc('font',**{'family':'serif','serif':['Palatino Linotype'],'size':12})\n",
    "rc('text', usetex=True)"
   ]
  }
 ],
 "metadata": {
  "kernelspec": {
   "display_name": "Python 3 (ipykernel)",
   "language": "python",
   "name": "python3"
  },
  "language_info": {
   "codemirror_mode": {
    "name": "ipython",
    "version": 3
   },
   "file_extension": ".py",
   "mimetype": "text/x-python",
   "name": "python",
   "nbconvert_exporter": "python",
   "pygments_lexer": "ipython3",
   "version": "3.11.6"
  }
 },
 "nbformat": 4,
 "nbformat_minor": 5
}
