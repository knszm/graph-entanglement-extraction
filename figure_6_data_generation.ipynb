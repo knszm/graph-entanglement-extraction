{
 "cells": [
  {
   "cell_type": "code",
   "execution_count": 1,
   "id": "dd27eb1b",
   "metadata": {},
   "outputs": [],
   "source": [
    "from utils import prepare_pauli_operator,mean_and_error,parallel_for\n",
    "from tqdm import tqdm\n",
    "from math import sqrt\n",
    "import networkx as nx\n",
    "from functools import reduce # Valid in Python 2.6+, required in Python 3\n",
    "import operator\n",
    "from graphstates import *\n",
    "import numpy as np\n",
    "import itertools \n",
    "from utils import prepare_intertwined_grid_with_endpoints, prepare_intertwined_twist_with_endpoints\n",
    "def prod(gen,init=1):\n",
    "    return reduce(operator.mul, gen, init)\n",
    "from tqdm import *\n",
    "import pickle\n",
    "import matplotlib as plt\n",
    "from qutip.metrics import fidelity\n",
    "from IPython.display import clear_output\n",
    "\n",
    "\n",
    "def e_z_check(args):\n",
    "    N,edges,Pedge,Pz,tomeasure,terminal,stabgens,axis=args\n",
    "    gse=subgraph_and_z_one_error_ensemble(N,edges,Pedge,Pz)\n",
    "    signs=[0 for v in range(N)]\n",
    "    for v in tomeasure: #measure all non-terminal qubits\n",
    "        sign=(1 if gse.perform_pauli_measurement(v,axis)=='+' else -1)\n",
    "        signs[v]=sign\n",
    "    ss=[]\n",
    "\n",
    "    for sg in stabgens:\n",
    "        ss.append(prod(signs[v] for v in sg))\n",
    "    consistent=all(sign==1 for sign in ss) #check sign consistencies\n",
    "    if consistent:\n",
    "        st1=gse.get_reduced_state(terminal,normalized=True)\n",
    "        st2=gse.states[-1]['state'].get_reduced_state(terminal,normalized=True)\n",
    "        con=fidelity(st1,st2)\n",
    "    else: #stabilizer-inconsistent outcomes postselected out.\n",
    "        con=0\n",
    "    return con,all(sign==1 for sign in ss)\n",
    "\n",
    "def graphcheck(G,terminal,tomeasure,stabgens,no_measurement_runs,eps,draw=False):\n",
    "    N=G.order()\n",
    "    if draw:\n",
    "        nx.draw(G,with_labels=True)\n",
    "    edges=G.edges\n",
    "    \n",
    "    #generate random measurement results for edge loss:\n",
    "    eresults=parallel_for(e_z_check,[(N,edges,eps,0,tomeasure,terminal,stabgens,'x') for _ in range(no_measurement_runs)])\n",
    "    econs=[con for (con,passed) in eresults] # ... and extract just the fidelity\n",
    "    epscons=[con for (con,passed) in eresults if passed] #... possibly after postselection on stab.-consistent outcomes\n",
    "\n",
    "    #the same for Z-flip noise:\n",
    "    vcons=[]\n",
    "    vpscons=[]\n",
    "    vresults=parallel_for(e_z_check,[(N,edges,0,eps,tomeasure,terminal,stabgens,'x') for _ in range(no_measurement_runs)])\n",
    "    vcons=[con for (con,passed) in vresults]\n",
    "    vpscons=[con for (con,passed) in vresults if passed]\n",
    "    \n",
    "    #determine the fidelity susceptibility for:\n",
    "    esus=mean_and_error((1-np.array(econs))/eps) # edge-loss without postselection\n",
    "    vsus=mean_and_error((1-np.array(vcons))/eps) # Z-flip without postselection\n",
    "    epssus=mean_and_error((1-np.array(epscons))/eps) #edge loss with postselection\n",
    "    vpssus=mean_and_error((1-np.array(vpscons))/eps) #Z-flip with postselection\n",
    "    \n",
    "    return (esus,vsus,epssus,vpssus)   \n"
   ]
  },
  {
   "cell_type": "code",
   "execution_count": 2,
   "id": "4b0b2528",
   "metadata": {},
   "outputs": [],
   "source": [
    "def pathcheck(length,eps,no_measurement_runs=300,clear=True,draw=False):\n",
    "    G=nx.path_graph(length+2)\n",
    "    N=G.order()\n",
    "    terminal=[0,N-1]\n",
    "    tomeasure=list(np.arange(1,N-1))\n",
    "    stabgens=[]\n",
    "    ret= graphcheck(G,terminal,tomeasure,stabgens,no_measurement_runs,eps,draw=draw)\n",
    "    if clear:\n",
    "        clear_output(wait=True)\n",
    "    return ret\n",
    "    \n",
    "def crazycheck(length,eps,no_measurement_runs=300,clear=True,draw=False):\n",
    "    G=prepare_intertwined_twist_with_endpoints(length)\n",
    "    N=G.order()\n",
    "    edges=G.edges\n",
    "    cons={}\n",
    "    postselcons={}\n",
    "    terminal=[0,1]\n",
    "    tomeasure=np.arange(2,N)\n",
    "    stabgens=np.reshape(np.arange(2,N),((N-2)//2,2))\n",
    "    ret= graphcheck(G,terminal,tomeasure,stabgens,no_measurement_runs,eps,draw=draw)\n",
    "    if clear:\n",
    "        clear_output(wait=True)\n",
    "    return ret\n",
    "def twistcheck(length,eps,no_measurement_runs=300,clear=True,draw=False):\n",
    "    assert (length%2)==1\n",
    "    G=prepare_intertwined_twist_with_endpoints(length) #prepare a crazy graph...\n",
    "    for i in range(4,2*length,4): #... and contract nodes at every 2nd layer. easier to do it this way.\n",
    "        G=nx.contracted_nodes(G,i,i+1,self_loops=False)\n",
    "    G=nx.convert_node_labels_to_integers(G)\n",
    "    N=G.order()\n",
    "    edges=G.edges\n",
    "    terminal=[0,1]\n",
    "    tomeasure=list(range(2,G.order()))\n",
    "    stabgens=[]\n",
    "    for i in range(2,G.order(),3):\n",
    "        stabgens.append([i,i+1])\n",
    "\n",
    "    ret= graphcheck(G,terminal,tomeasure,stabgens,no_measurement_runs,eps,draw=draw)\n",
    "    if clear:\n",
    "        clear_output(wait=True)\n",
    "    return ret"
   ]
  },
  {
   "cell_type": "code",
   "execution_count": 3,
   "id": "8b0cf516",
   "metadata": {},
   "outputs": [],
   "source": [
    "pathres={}\n",
    "twistres={}\n",
    "crazyres={}\n",
    "eps=0.01"
   ]
  },
  {
   "cell_type": "code",
   "execution_count": 4,
   "id": "064d5f7b",
   "metadata": {},
   "outputs": [
    {
     "name": "stdout",
     "output_type": "stream",
     "text": [
      "Doing path 7\n"
     ]
    },
    {
     "name": "stderr",
     "output_type": "stream",
     "text": [
      "100%|█████████████████████████████████████████| 300/300 [00:10<00:00, 28.71it/s]\n",
      "100%|█████████████████████████████████████████| 300/300 [00:13<00:00, 22.60it/s]\n"
     ]
    }
   ],
   "source": [
    "for l in range(2,8):\n",
    "    print('Doing path {}'.format(l))\n",
    "    pathres[l]=pathcheck(l,eps)"
   ]
  },
  {
   "cell_type": "code",
   "execution_count": 5,
   "id": "f59e4bf7",
   "metadata": {
    "scrolled": true
   },
   "outputs": [
    {
     "name": "stdout",
     "output_type": "stream",
     "text": [
      "Doing crazy 7\n"
     ]
    },
    {
     "name": "stderr",
     "output_type": "stream",
     "text": [
      "100%|█████████████████████████████████████████| 300/300 [18:41<00:00,  3.74s/it]\n",
      "100%|█████████████████████████████████████████| 300/300 [10:32<00:00,  2.11s/it]\n"
     ]
    }
   ],
   "source": [
    "for l in range(2,8):\n",
    "    print('Doing crazy {}'.format(l))\n",
    "    crazyres[l]=crazycheck(l,eps)"
   ]
  },
  {
   "cell_type": "code",
   "execution_count": 6,
   "id": "21d57941",
   "metadata": {},
   "outputs": [
    {
     "name": "stdout",
     "output_type": "stream",
     "text": [
      "Doing twist 7\n"
     ]
    },
    {
     "name": "stderr",
     "output_type": "stream",
     "text": [
      "100%|█████████████████████████████████████████| 300/300 [01:09<00:00,  4.30it/s]\n",
      "100%|█████████████████████████████████████████| 300/300 [01:01<00:00,  4.87it/s]\n"
     ]
    }
   ],
   "source": [
    "for l in range(3,8,2):\n",
    "    print('Doing twist {}'.format(l))\n",
    "    twistres[l]=twistcheck(l,eps)"
   ]
  },
  {
   "cell_type": "code",
   "execution_count": 7,
   "id": "d6b74eaf",
   "metadata": {},
   "outputs": [],
   "source": [
    "#save the data\n",
    "with open('results/lengths/fidelity-pathres.pickle', 'wb') as file:\n",
    "    pickle.dump(pathres, file)\n",
    "with open('results/lengths/fidelity-twistres.pickle', 'wb') as file:\n",
    "    pickle.dump(twistres, file)\n",
    "with open('results/lengths/fidelity-crazyres.pickle', 'wb') as file:\n",
    "    pickle.dump(crazyres, file)\n"
   ]
  },
  {
   "cell_type": "code",
   "execution_count": null,
   "id": "69da42bb",
   "metadata": {},
   "outputs": [],
   "source": []
  }
 ],
 "metadata": {
  "kernelspec": {
   "display_name": "Python 3 (ipykernel)",
   "language": "python",
   "name": "python3"
  },
  "language_info": {
   "codemirror_mode": {
    "name": "ipython",
    "version": 3
   },
   "file_extension": ".py",
   "mimetype": "text/x-python",
   "name": "python",
   "nbconvert_exporter": "python",
   "pygments_lexer": "ipython3",
   "version": "3.11.6"
  }
 },
 "nbformat": 4,
 "nbformat_minor": 5
}
